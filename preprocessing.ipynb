{
 "cells": [
  {
   "cell_type": "code",
   "execution_count": 2,
   "metadata": {},
   "outputs": [],
   "source": [
    "import numpy as np\n",
    "from sklearn import preprocessing"
   ]
  },
  {
   "cell_type": "code",
   "execution_count": 9,
   "metadata": {},
   "outputs": [],
   "source": [
    "data = np.array([  [1,2,3,4], [5,6,7,8],[1,4,9,6],[1,4,8,9] ]) # as it is an array we made array of array"
   ]
  },
  {
   "cell_type": "markdown",
   "metadata": {},
   "source": [
    "# Standadrize the data with mean 0 and std 1"
   ]
  },
  {
   "cell_type": "code",
   "execution_count": 26,
   "metadata": {},
   "outputs": [
    {
     "name": "stderr",
     "output_type": "stream",
     "text": [
      "/home/denim/anaconda3/lib/python3.7/site-packages/sklearn/utils/validation.py:475: DataConversionWarning: Data with input dtype int64 was converted to float64 by the scale function.\n",
      "  warnings.warn(msg, DataConversionWarning)\n"
     ]
    }
   ],
   "source": [
    "standard_data = preprocessing.scale(data)"
   ]
  },
  {
   "cell_type": "code",
   "execution_count": 17,
   "metadata": {},
   "outputs": [
    {
     "name": "stdout",
     "output_type": "stream",
     "text": [
      "\n",
      " mean of data =  [2.   4.   6.75 6.75]\n",
      "\n",
      " mean of standard_data=  [-5.55111512e-17  0.00000000e+00  2.77555756e-17  0.00000000e+00]\n"
     ]
    }
   ],
   "source": [
    "print(\"\\n mean of data = \",data.mean(axis= 0) )\n",
    "print(\"\\n mean of standard_data= \",standard_data.mean(axis= 0) )"
   ]
  },
  {
   "cell_type": "code",
   "execution_count": 18,
   "metadata": {},
   "outputs": [
    {
     "name": "stdout",
     "output_type": "stream",
     "text": [
      "\n",
      " standard deviation =  [1.73205081 1.41421356 2.27760839 1.92028644]\n",
      "\n",
      " standard deviation of standard_data =  [1. 1. 1. 1.]\n"
     ]
    }
   ],
   "source": [
    "print( \"\\n standard deviation = \" , data.std(axis=0))\n",
    "print( \"\\n standard deviation of standard_data = \" , standard_data.std(axis=0))\n"
   ]
  },
  {
   "cell_type": "markdown",
   "metadata": {},
   "source": [
    "# Scale the data with to make squeeze it between 0 and 1"
   ]
  },
  {
   "cell_type": "code",
   "execution_count": 29,
   "metadata": {},
   "outputs": [
    {
     "name": "stderr",
     "output_type": "stream",
     "text": [
      "/home/denim/anaconda3/lib/python3.7/site-packages/sklearn/utils/validation.py:475: DataConversionWarning: Data with input dtype int64 was converted to float64 by MinMaxScaler.\n",
      "  warnings.warn(msg, DataConversionWarning)\n"
     ]
    }
   ],
   "source": [
    "data_scaling = preprocessing.MinMaxScaler(feature_range = (0,1))\n",
    "scaled_data = data_scaling.fit_transform(data)"
   ]
  },
  {
   "cell_type": "code",
   "execution_count": 32,
   "metadata": {},
   "outputs": [
    {
     "name": "stdout",
     "output_type": "stream",
     "text": [
      "\n",
      " scaled_data  =  [[0.         0.         0.         0.        ]\n",
      " [1.         1.         0.66666667 0.8       ]\n",
      " [0.         0.5        1.         0.4       ]\n",
      " [0.         0.5        0.83333333 1.        ]]\n"
     ]
    }
   ],
   "source": [
    "print(\"\\n scaled_data  = \", scaled_data)"
   ]
  },
  {
   "cell_type": "markdown",
   "metadata": {},
   "source": [
    "# Normalize the data"
   ]
  },
  {
   "cell_type": "code",
   "execution_count": 36,
   "metadata": {},
   "outputs": [],
   "source": [
    "normalized_data = preprocessing.normalize(data,norm= 'l1') # and with l2"
   ]
  },
  {
   "cell_type": "code",
   "execution_count": 44,
   "metadata": {},
   "outputs": [
    {
     "name": "stdout",
     "output_type": "stream",
     "text": [
      "\n",
      " normalized_data =  [[0.18257419 0.36514837 0.54772256 0.73029674]\n",
      " [0.37904902 0.45485883 0.53066863 0.60647843]\n",
      " [0.08638684 0.34554737 0.77748158 0.51832106]\n",
      " [0.07856742 0.31426968 0.62853936 0.70710678]]\n"
     ]
    }
   ],
   "source": [
    "print(\"\\n normalized_data = \", normalized_data)"
   ]
  },
  {
   "cell_type": "markdown",
   "metadata": {},
   "source": [
    "# Binarization"
   ]
  },
  {
   "cell_type": "code",
   "execution_count": 41,
   "metadata": {},
   "outputs": [],
   "source": [
    "binarized_data = preprocessing.binarize(data, threshold=5)  #.transform(data)"
   ]
  },
  {
   "cell_type": "code",
   "execution_count": 46,
   "metadata": {},
   "outputs": [
    {
     "name": "stdout",
     "output_type": "stream",
     "text": [
      "\n",
      " Binarized data =  [[0 0 0 0]\n",
      " [0 1 1 1]\n",
      " [0 0 1 1]\n",
      " [0 0 1 1]]\n"
     ]
    }
   ],
   "source": [
    "print(\"\\n Binarized data = \", binarized_data)"
   ]
  },
  {
   "cell_type": "code",
   "execution_count": 54,
   "metadata": {},
   "outputs": [
    {
     "name": "stdout",
     "output_type": "stream",
     "text": [
      "\n",
      "Encoded vector = [[1. 0. 0. 1. 0. 0. 0. 0. 0.]]\n"
     ]
    }
   ],
   "source": [
    "encoder = preprocessing.OneHotEncoder()\n",
    "encoder.fit([[1, 2, 1, 12], [1, 3, 5, 3], [1, 3, 2, 12], [1, 2, 4,\n",
    "3]])\n",
    "encoded_vector = encoder.transform([[1, 1, 1, 1]]).toarray()\n",
    "print (\"\\nEncoded vector =\", encoded_vector)\n"
   ]
  },
  {
   "cell_type": "markdown",
   "metadata": {},
   "source": [
    "# Label encoding "
   ]
  },
  {
   "cell_type": "code",
   "execution_count": 56,
   "metadata": {},
   "outputs": [],
   "source": [
    "input_classes = ['US', 'Russia', 'India', 'China', 'US', 'Japan', 'US', 'Ausrallia']"
   ]
  },
  {
   "cell_type": "code",
   "execution_count": 63,
   "metadata": {},
   "outputs": [
    {
     "name": "stdout",
     "output_type": "stream",
     "text": [
      "\n",
      "Class mapping:\n",
      "Ausrallia --> 0\n",
      "China --> 1\n",
      "India --> 2\n",
      "Japan --> 3\n",
      "Russia --> 4\n",
      "US --> 5\n"
     ]
    }
   ],
   "source": [
    "label_encoder = preprocessing.LabelEncoder()\n",
    "label_encoder.fit(input_classes)\n",
    "print(\"\\nClass mapping:\")\n",
    "for i, item in enumerate(label_encoder.classes_):\n",
    " print(item, \"-->\", i)"
   ]
  },
  {
   "cell_type": "raw",
   "metadata": {},
   "source": [
    "it start from back to label the classes"
   ]
  },
  {
   "cell_type": "code",
   "execution_count": 69,
   "metadata": {},
   "outputs": [
    {
     "name": "stdout",
     "output_type": "stream",
     "text": [
      "\n",
      "Labels = ['US', 'Russia', 'China']\n",
      "Encoded labels = [5, 4, 1]\n"
     ]
    }
   ],
   "source": [
    "# get back the value of a perticular class\n",
    "labels = ['US', 'Russia', 'China']\n",
    "encoded_labels = label_encoder.transform(labels)\n",
    "print (\"\\nLabels =\", labels )\n",
    "print (\"Encoded labels =\", list(encoded_labels) )"
   ]
  },
  {
   "cell_type": "code",
   "execution_count": 70,
   "metadata": {},
   "outputs": [
    {
     "name": "stdout",
     "output_type": "stream",
     "text": [
      "\n",
      "Encoded labels = [2, 1, 0, 3, 1]\n",
      "Decoded labels = ['India', 'China', 'Ausrallia', 'Japan', 'China']\n"
     ]
    },
    {
     "name": "stderr",
     "output_type": "stream",
     "text": [
      "/home/denim/anaconda3/lib/python3.7/site-packages/sklearn/preprocessing/label.py:151: DeprecationWarning: The truth value of an empty array is ambiguous. Returning False, but in future this will result in an error. Use `array.size > 0` to check that an array is not empty.\n",
      "  if diff:\n"
     ]
    }
   ],
   "source": [
    "encoded_labels = [2, 1, 0, 3, 1]\n",
    "decoded_labels = label_encoder.inverse_transform(encoded_labels)\n",
    "print (\"\\nEncoded labels =\", encoded_labels)\n",
    "print (\"Decoded labels =\", list(decoded_labels) )"
   ]
  }
 ],
 "metadata": {
  "kernelspec": {
   "display_name": "Python 3",
   "language": "python",
   "name": "python3"
  },
  "language_info": {
   "codemirror_mode": {
    "name": "ipython",
    "version": 3
   },
   "file_extension": ".py",
   "mimetype": "text/x-python",
   "name": "python",
   "nbconvert_exporter": "python",
   "pygments_lexer": "ipython3",
   "version": "3.7.0"
  }
 },
 "nbformat": 4,
 "nbformat_minor": 2
}
